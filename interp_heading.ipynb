{
 "cells": [
  {
   "cell_type": "code",
   "execution_count": null,
   "metadata": {
    "is_executing": true
   },
   "outputs": [],
   "source": [
    "import numpy as np\n",
    "import pandas as pd\n",
    "import csv"
   ]
  },
  {
   "cell_type": "markdown",
   "metadata": {},
   "source": [
    "Read csv file containing calibration for all cameras.\n",
    "\n",
    "The calibration file was created by presenting each stimulus statically on the arena walls, and then recording a laser pointer as it was moving towards it. This gives us the relationship between where the stimulus is presented (in screen pixels) and the tracked object heading towards the stimuli."
   ]
  },
  {
   "cell_type": "code",
   "execution_count": null,
   "metadata": {},
   "outputs": [],
   "source": [
    "calibration_file = 'C:/Users/kotra/Documents/stimulus_analysis/laser_movements.csv'\n",
    "calibration_df = pd.read_csv(calibration_file)\n",
    "calibration_df"
   ]
  },
  {
   "cell_type": "markdown",
   "metadata": {},
   "source": [
    "Let's assume we analyzed the video, and found the fly heading to be -2.3rad (from `np.arctan2`). We also have the camera number, and we can extract where the stimulus appeared on the arena display from the `stim.csv` file."
   ]
  },
  {
   "cell_type": "code",
   "execution_count": null,
   "metadata": {},
   "outputs": [],
   "source": [
    "import pandas as pd\n",
    "\n",
    "def find_and_display_values(filename, object_id, frame):\n",
    "    # Load the CSV file into a DataFrame\n",
    "    df = pd.read_csv(filename, sep=';', on_bad_lines='skip')\n",
    "\n",
    "    # Check if the DataFrame is empty\n",
    "    if df.empty:\n",
    "        print(\"The DataFrame is empty. Please check the CSV file.\")\n",
    "        return\n",
    "\n",
    "    # Print the original column names\n",
    "    print(\"Original DataFrame columns:\")\n",
    "    print(df.columns)\n",
    "\n",
    "    # Clean column names: strip whitespace and convert to lowercase\n",
    "    df.columns = df.columns.str.strip().str.lower()\n",
    "\n",
    "    # Debug: Print the cleaned column names\n",
    "    print(\"Cleaned DataFrame columns:\")\n",
    "    print(df.columns)\n",
    "\n",
    "    # Check if 'obj_id' and 'frame' exist in the DataFrame\n",
    "    if 'obj_id' not in df.columns or 'frame' not in df.columns:\n",
    "        print(\"Error: 'obj_id' or 'frame' column not found in the DataFrame.\")\n",
    "        return\n",
    "\n",
    "    # Filter the DataFrame for matching object_id and frame\n",
    "    matching_rows = df[(df['obj_id'] == object_id) & (df['frame'] == frame)]\n",
    "\n",
    "    # Check if any matching rows were found\n",
    "    if matching_rows.empty:\n",
    "        print(f\"No matching row found for object ID {object_id} and frame value {frame}.\")\n",
    "        return\n",
    "\n",
    "    # Iterate through the matching rows (if there are multiple)\n",
    "    for index, row in matching_rows.iterrows():\n",
    "        try:\n",
    "            # Accessing values from the columns directly using the row\n",
    "            col2_value = row['obj_id']            # Get the object ID\n",
    "            col3_value = row['frame']             # Get the frame number\n",
    "            col4_value = row['x']                 # Get the x position\n",
    "            col5_value = row['y']                 # Get the y position\n",
    "            col23_value = row['looming_pos_x']    # Get the looming position x (assumed as column 23)\n",
    "\n",
    "            # Display the extracted values\n",
    "            print(f\"Values from matching row (object ID: {object_id}, frame: {frame}):\")\n",
    "            print(f\"Column 2 (Object ID): {col2_value}\")\n",
    "            print(f\"Column 3 (Frame): {col3_value}\")\n",
    "            print(f\"Column 4 (X): {col4_value}\")\n",
    "            print(f\"Column 5 (Y): {col5_value}\")\n",
    "            print(f\"Column 23 (Looming Position X): {col23_value}\")\n",
    "        except KeyError as e:\n",
    "            print(f\"Error accessing columns: {e}\")\n",
    "\n",
    "# Example usage\n",
    "find_and_display_values(\"C:/Users/kotra/Documents/stimulus_analysis/20230626_161309.csv\", 37861, 1315384)\n",
    "\n"
   ]
  },
  {
   "cell_type": "code",
   "execution_count": null,
   "metadata": {},
   "outputs": [],
   "source": [
    "\n",
    "def get_xy_array(filename):\n",
    "    # Load the CSV file with the correct delimiter\n",
    "    df = pd.read_csv(filename, delimiter=';')  # Try changing the delimiter here if it's not a comma\n",
    "    \n",
    "    # Standardize column names (lowercase and strip whitespace)\n",
    "    df.columns = df.columns.str.strip().str.lower()\n",
    "    print(\"Columns:\", df.columns)\n",
    "    \n",
    "    # Check if 'x' and 'y' exist after correctly loading the columns\n",
    "    try:\n",
    "        x_column = df['x']  # Replace 'x' with the actual column name if necessary\n",
    "        y_column = df['y']  # Replace 'y' with the actual column name if necessary\n",
    "    except KeyError as e:\n",
    "        print(f\"Error accessing columns: {e}\")\n",
    "        return None  # Return None if columns are not found\n",
    "    \n",
    "    # Optional: Print some values for verification\n",
    "    print(\"Sample X values:\", x_column.head())\n",
    "    print(\"Sample Y values:\", y_column.head())\n",
    "    \n",
    "    # Returning x and y values as arrays or lists\n",
    "    return x_column.values, y_column.values\n",
    "\n",
    "# Test the function with the provided file path\n",
    "result = get_xy_array(\"c:/Users/kotra/Documents/Videos/20230626_161309/tracking/1_obj_id_33646_cam_23047980_frame_1129843.csv\")\n",
    "\n",
    "if result is not None:\n",
    "    x_values, y_values = result\n",
    "    # Optional: Print the returned arrays for verification\n",
    "    print(\"X Values:\", x_values)\n",
    "    print(\"Y Values:\", y_values)\n",
    "else:\n",
    "    print(\"Failed to retrieve x and y values.\")\n",
    "\n",
    "\n",
    "#xvel = np.diff(x_values)\n",
    "#yvel = np.diff(y_values)\n",
    "\n",
    "heading_before = np.arctan2(np.diff(y_values)[450:500],np.diff(x_values)[450:500]) #this gives you the vector before in radians\n",
    "#heading_after = np.arctan2(yvel[600:650], xvel[600:650]) #this gives you the vector after in radians\n",
    "fly_heading_in_videos = heading_before\n",
    "camera_number = 23047980 # from the video files\n",
    "stim_position = 178 # from xpos\n",
    "heading_before "
   ]
  },
  {
   "cell_type": "markdown",
   "metadata": {},
   "source": [
    "Now we extract the calibration data only for our camera of interest."
   ]
  },
  {
   "cell_type": "code",
   "execution_count": null,
   "metadata": {},
   "outputs": [],
   "source": [
    "heading = calibration_df[calibration_df.camera == camera_number].heading_direction\n",
    "screen = calibration_df[calibration_df.camera == camera_number].stim_direction\n",
    "screen \n"
   ]
  },
  {
   "cell_type": "markdown",
   "metadata": {},
   "source": [
    "Now, using `np.interp1`, we can use the calibration data to get the approximate position of the stimulus in radians.\n",
    "\n",
    "We can then compare this to where the fly was heading (`fly_heading_in_video`), and we can deduce where the stimulus was presented.\n",
    "\n",
    "The more in-front of the fly the stimulus is (the lower the difference between the interpoaled heading and the actual heading of the fly), the more we expect the stimulus to elicit a stronger reaction."
   ]
  },
  {
   "cell_type": "code",
   "execution_count": null,
   "metadata": {},
   "outputs": [],
   "source": [
    "interp_heading = np.interp(stim_position, screen,  heading, period=2 * np.pi)\n",
    "difference_in_heading = fly_heading_in_videos - interp_heading #ttheta f- theta stimulus\n",
    "difference_in_heading"
   ]
  }
 ],
 "metadata": {
  "kernelspec": {
   "display_name": "flyanalysis-env",
   "language": "python",
   "name": "python3"
  },
  "language_info": {
   "codemirror_mode": {
    "name": "ipython",
    "version": 3
   },
   "file_extension": ".py",
   "mimetype": "text/x-python",
   "name": "python",
   "nbconvert_exporter": "python",
   "pygments_lexer": "ipython3",
   "version": "3.11.9"
  }
 },
 "nbformat": 4,
 "nbformat_minor": 2
}
